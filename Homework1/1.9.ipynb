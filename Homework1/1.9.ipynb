{
 "cells": [
  {
   "cell_type": "code",
   "execution_count": 3,
   "metadata": {},
   "outputs": [
    {
     "name": "stdout",
     "output_type": "stream",
     "text": [
      "1.2599210498948732\n"
     ]
    }
   ],
   "source": [
    "def cuberoot(x):\n",
    "    y=x\n",
    "    for i in range(0,100):\n",
    "        y=(2*y+x/y**2)/3\n",
    "    return y\n",
    "\n",
    "x=float(input(\"输入待开立方数：\"))\n",
    "print(cuberoot(x))"
   ]
  }
 ],
 "metadata": {
  "kernelspec": {
   "display_name": "Python 3",
   "language": "python",
   "name": "python3"
  },
  "language_info": {
   "codemirror_mode": {
    "name": "ipython",
    "version": 3
   },
   "file_extension": ".py",
   "mimetype": "text/x-python",
   "name": "python",
   "nbconvert_exporter": "python",
   "pygments_lexer": "ipython3",
   "version": "3.11.9"
  }
 },
 "nbformat": 4,
 "nbformat_minor": 2
}
