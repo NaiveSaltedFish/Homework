{
 "cells": [
  {
   "cell_type": "code",
   "execution_count": null,
   "metadata": {},
   "outputs": [],
   "source": [
    "'''使用for循环'''\n",
    "len=int(input(\"输入列表长度：\"))\n",
    "list=[]\n",
    "for i in range(0,len):\n",
    "    num=int(input(\"输入第{}个元素\".format(i+1)))\n",
    "    list.append(num)\n",
    "list_rev=[]\n",
    "for i in range(0,len):\n",
    "    list_rev.append(list[len-i-1])\n",
    "print(list_rev)"
   ]
  },
  {
   "cell_type": "code",
   "execution_count": 1,
   "metadata": {},
   "outputs": [
    {
     "name": "stdout",
     "output_type": "stream",
     "text": [
      "[5, 4, 3, 2, 1]\n"
     ]
    }
   ],
   "source": [
    "'''使用while循环'''\n",
    "len=int(input(\"输入列表长度：\"))\n",
    "list=[]\n",
    "for i in range(0,len):\n",
    "    num=int(input(\"输入第{}个元素\".format(i+1)))\n",
    "    list.append(num)\n",
    "list_rev=[]\n",
    "i=0\n",
    "while i<len:\n",
    "    list_rev.append(list[len-i-1])\n",
    "    i+=1\n",
    "print(list_rev)"
   ]
  }
 ],
 "metadata": {
  "kernelspec": {
   "display_name": "Python 3",
   "language": "python",
   "name": "python3"
  },
  "language_info": {
   "codemirror_mode": {
    "name": "ipython",
    "version": 3
   },
   "file_extension": ".py",
   "mimetype": "text/x-python",
   "name": "python",
   "nbconvert_exporter": "python",
   "pygments_lexer": "ipython3",
   "version": "3.11.9"
  }
 },
 "nbformat": 4,
 "nbformat_minor": 2
}
