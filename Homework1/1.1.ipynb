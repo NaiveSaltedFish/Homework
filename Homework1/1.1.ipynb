{
 "cells": [
  {
   "cell_type": "code",
   "execution_count": 2,
   "metadata": {},
   "outputs": [
    {
     "name": "stdout",
     "output_type": "stream",
     "text": [
      "★★★★★★★★★\n",
      "★数据科学与工程★\n",
      "★★★★★★★★★"
     ]
    }
   ],
   "source": [
    "for i in range(1,9):\n",
    "    print(chr(0x2605), end='')\n",
    "print(chr(0x2605))\n",
    "print(\"{}数据科学与工程{}\".format(chr(0x2605), chr(0x2605)))\n",
    "for i in range(1,10):\n",
    "    print(chr(0x2605), end='')"
   ]
  }
 ],
 "metadata": {
  "kernelspec": {
   "display_name": "Python 3",
   "language": "python",
   "name": "python3"
  },
  "language_info": {
   "codemirror_mode": {
    "name": "ipython",
    "version": 3
   },
   "file_extension": ".py",
   "mimetype": "text/x-python",
   "name": "python",
   "nbconvert_exporter": "python",
   "pygments_lexer": "ipython3",
   "version": "3.11.9"
  }
 },
 "nbformat": 4,
 "nbformat_minor": 2
}
