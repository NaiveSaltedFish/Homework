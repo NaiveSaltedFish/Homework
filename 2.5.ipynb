{
 "cells": [
  {
   "cell_type": "code",
   "execution_count": 15,
   "metadata": {},
   "outputs": [
    {
     "name": "stdout",
     "output_type": "stream",
     "text": [
      "是回文数\n"
     ]
    }
   ],
   "source": [
    "num=int(input(\"输入一个整数:\"))\n",
    "List=[]\n",
    "while(num//10!=0):\n",
    "    List.append(num%10)\n",
    "    num=num//10\n",
    "List.append(num%10)\n",
    "n=len(List)\n",
    "flag=1\n",
    "for i in range(0,n//2):\n",
    "    if (List[i]!=List[-1*i-1]):\n",
    "        flag=0\n",
    "        print(\"不是回文数\")\n",
    "        break\n",
    "if (flag==1):\n",
    "    print(\"是回文数\")"
   ]
  }
 ],
 "metadata": {
  "kernelspec": {
   "display_name": "Python 3",
   "language": "python",
   "name": "python3"
  },
  "language_info": {
   "codemirror_mode": {
    "name": "ipython",
    "version": 3
   },
   "file_extension": ".py",
   "mimetype": "text/x-python",
   "name": "python",
   "nbconvert_exporter": "python",
   "pygments_lexer": "ipython3",
   "version": "3.11.9"
  }
 },
 "nbformat": 4,
 "nbformat_minor": 2
}
