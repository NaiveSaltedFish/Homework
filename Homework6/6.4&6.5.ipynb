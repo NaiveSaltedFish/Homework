{
 "cells": [
  {
   "cell_type": "code",
   "execution_count": 3,
   "metadata": {},
   "outputs": [
    {
     "name": "stdout",
     "output_type": "stream",
     "text": [
      "For question 6.4, the probability is 73.91304347826087 %.\n",
      "For question 6.5, the probability is 77.77777777777779 %.\n"
     ]
    }
   ],
   "source": [
    "tool=0.5\n",
    "non_tool=1-tool\n",
    "system=0.25\n",
    "software=tool+system\n",
    "non_software=0.25\n",
    "non_software_HTML=0.85\n",
    "software_HTML=0.1\n",
    "tool_java=0.35\n",
    "non_tool_java=0.1\n",
    "\n",
    "#6.4\n",
    "HTML=software_HTML*software+non_software_HTML*non_software\n",
    "res1=non_software_HTML*non_software/HTML*100\n",
    "print('For question 6.4, the probability is', res1, '%.')\n",
    "\n",
    "#6.5\n",
    "java=tool_java*tool+non_tool_java*non_tool\n",
    "res2=tool_java*tool/java*100\n",
    "print('For question 6.5, the probability is', res2, '%.')\n",
    "\n",
    "\n"
   ]
  }
 ],
 "metadata": {
  "kernelspec": {
   "display_name": "Python 3",
   "language": "python",
   "name": "python3"
  },
  "language_info": {
   "codemirror_mode": {
    "name": "ipython",
    "version": 3
   },
   "file_extension": ".py",
   "mimetype": "text/x-python",
   "name": "python",
   "nbconvert_exporter": "python",
   "pygments_lexer": "ipython3",
   "version": "3.11.9"
  }
 },
 "nbformat": 4,
 "nbformat_minor": 2
}
