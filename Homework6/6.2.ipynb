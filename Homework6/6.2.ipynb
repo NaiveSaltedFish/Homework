{
 "cells": [
  {
   "cell_type": "code",
   "execution_count": 3,
   "metadata": {},
   "outputs": [
    {
     "name": "stdout",
     "output_type": "stream",
     "text": [
      "The average growth rates are:\n",
      "-0.2177265404564799\n",
      "-0.03128928413685308\n",
      "-0.2604723767633386\n",
      "-0.13141349099320357\n",
      "0.04494430300881917\n",
      "-0.1782270606531882\n",
      "0.033593581053369334\n",
      "0.22892857366017033\n",
      "0.12827315044967705\n",
      "-0.09098095114681876\n"
     ]
    }
   ],
   "source": [
    "import pandas as pd\n",
    "\n",
    "data=pd.read_csv('2022/activity_2022.csv')\n",
    "repo=data['repo']\n",
    "start_value=data['20221_value']\n",
    "end_value=data['202212_value']\n",
    "N=len(repo)\n",
    "rate=[0]*N\n",
    "print('The average growth rates are:')\n",
    "for i in range(N):\n",
    "    rate[i]=(end_value[i]-start_value[i])/start_value[i]\n",
    "    print(rate[i])"
   ]
  }
 ],
 "metadata": {
  "kernelspec": {
   "display_name": "Python 3",
   "language": "python",
   "name": "python3"
  },
  "language_info": {
   "codemirror_mode": {
    "name": "ipython",
    "version": 3
   },
   "file_extension": ".py",
   "mimetype": "text/x-python",
   "name": "python",
   "nbconvert_exporter": "python",
   "pygments_lexer": "ipython3",
   "version": "3.11.9"
  }
 },
 "nbformat": 4,
 "nbformat_minor": 2
}
