{
 "cells": [
  {
   "cell_type": "code",
   "execution_count": 3,
   "metadata": {},
   "outputs": [
    {
     "name": "stdout",
     "output_type": "stream",
     "text": [
      "Comparison of data between China and the world:\n",
      "(From left to right are maximum, minimum, average and median.)\n",
      "Issue Comment\n",
      "China: 167814 11741 61205.5 39141.0\n",
      "Global: 1437317 78530 341409.4 178629.0\n",
      "Open Issue\n",
      "China: 22397 752 9169.2 6889.5\n",
      "Global: 189185 13162 43300.2 21648.0\n",
      "Open Pull\n",
      "China: 35266 1823 16912.7 15953.0\n",
      "Global: 309685 27414 83423.0 49103.5\n",
      "Review Comment\n",
      "China: 60402 2113 19857.5 10851.0\n",
      "Global: 456166 35072 120392.1 70433.5\n",
      "Merged Pull\n",
      "China: 26732 1165 13764.1 13705.5\n",
      "Global: 257123 15418 62472.0 33288.0\n",
      "Value\n",
      "China: 103368.49 12033.71 40269.53400000001 29789.235\n",
      "Global: 824848.67 71636.82 215855.491 102790.85\n",
      "Value Delta\n",
      "China: 21093.11 2329.36 9265.007000000001 9882.0\n",
      "Global: 57536.09 -47388.58 11906.920999999998 14209.235\n"
     ]
    }
   ],
   "source": [
    "import pandas as pd\n",
    "\n",
    "data_china=pd.read_csv('2022/china_2022.csv')\n",
    "data_global=pd.read_csv('2022/global_2022.csv')\n",
    "\n",
    "def average(A):\n",
    "    return sum(A)/len(A)\n",
    "\n",
    "def median(A):\n",
    "    A=sorted(A)\n",
    "    if len(A)%2==0:\n",
    "        return (A[len(A)//2-1]+A[len(A)//2])/2\n",
    "    else:\n",
    "        return A[len(A)//2]\n",
    "\n",
    "issue_comment_china=data_china['issue_comment']\n",
    "issue_comment_global=data_global['issue_comment']\n",
    "open_issue_china=data_china['open_issue']\n",
    "open_issue_global=data_global['open_issue']\n",
    "open_pull_china=data_china['open_pull']\n",
    "open_pull_global=data_global['open_pull']\n",
    "review_comment_china=data_china['review_comment']\n",
    "review_comment_global=data_global['review_comment']\n",
    "merged_pull_china=data_china['merged_pull']\n",
    "merged_pull_global=data_global['merged_pull']\n",
    "value_china=data_china['value']\n",
    "value_global=data_global['value']\n",
    "valueDelta_china=data_china['valueDelta']\n",
    "valueDelta_global=data_global['valueDelta']\n",
    "\n",
    "print(\"Comparison of data between China and the world:\")\n",
    "print(\"(From left to right are maximum, minimum, average and median.)\")\n",
    "print(\"Issue Comment\")\n",
    "print(\"China:\", max(issue_comment_china), min(issue_comment_china), average(issue_comment_china), median(issue_comment_china))\n",
    "print(\"Global:\", max(issue_comment_global), min(issue_comment_global), average(issue_comment_global), median(issue_comment_global))\n",
    "print(\"Open Issue\")\n",
    "print(\"China:\", max(open_issue_china), min(open_issue_china), average(open_issue_china), median(open_issue_china))\n",
    "print(\"Global:\", max(open_issue_global), min(open_issue_global), average(open_issue_global), median(open_issue_global))\n",
    "print(\"Open Pull\")\n",
    "print(\"China:\", max(open_pull_china), min(open_pull_china), average(open_pull_china), median(open_pull_china))\n",
    "print(\"Global:\", max(open_pull_global), min(open_pull_global), average(open_pull_global), median(open_pull_global))\n",
    "print(\"Review Comment\")\n",
    "print(\"China:\", max(review_comment_china), min(review_comment_china), average(review_comment_china), median(review_comment_china))\n",
    "print(\"Global:\", max(review_comment_global), min(review_comment_global), average(review_comment_global), median(review_comment_global))\n",
    "print(\"Merged Pull\")\n",
    "print(\"China:\", max(merged_pull_china), min(merged_pull_china), average(merged_pull_china), median(merged_pull_china))\n",
    "print(\"Global:\", max(merged_pull_global), min(merged_pull_global), average(merged_pull_global), median(merged_pull_global))\n",
    "print(\"Value\")\n",
    "print(\"China:\", max(value_china), min(value_china), average(value_china), median(value_china))\n",
    "print(\"Global:\", max(value_global), min(value_global), average(value_global), median(value_global))\n",
    "print(\"Value Delta\")\n",
    "print(\"China:\", max(valueDelta_china), min(valueDelta_china), average(valueDelta_china), median(valueDelta_china))\n",
    "print(\"Global:\", max(valueDelta_global), min(valueDelta_global), average(valueDelta_global), median(valueDelta_global))"
   ]
  }
 ],
 "metadata": {
  "kernelspec": {
   "display_name": "Python 3",
   "language": "python",
   "name": "python3"
  },
  "language_info": {
   "codemirror_mode": {
    "name": "ipython",
    "version": 3
   },
   "file_extension": ".py",
   "mimetype": "text/x-python",
   "name": "python",
   "nbconvert_exporter": "python",
   "pygments_lexer": "ipython3",
   "version": "3.11.9"
  }
 },
 "nbformat": 4,
 "nbformat_minor": 2
}
