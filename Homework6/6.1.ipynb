{
 "cells": [
  {
   "cell_type": "code",
   "execution_count": 8,
   "metadata": {},
   "outputs": [
    {
     "name": "stdout",
     "output_type": "stream",
     "text": [
      "The highest value is 1394.45 ;\n",
      "the lowest value is 200.68 ;\n",
      "the average value is 346.9678999999999 ;\n",
      "the median value is 273.66999999999996 .\n"
     ]
    },
    {
     "ename": "",
     "evalue": "",
     "output_type": "error",
     "traceback": [
      "\u001b[1;31m在当前单元格或上一个单元格中执行代码时 Kernel 崩溃。\n",
      "\u001b[1;31m请查看单元格中的代码，以确定故障的可能原因。\n",
      "\u001b[1;31m单击<a href='https://aka.ms/vscodeJupyterKernelCrash'>此处</a>了解详细信息。\n",
      "\u001b[1;31m有关更多详细信息，请查看 Jupyter <a href='command:jupyter.viewOutput'>log</a>。"
     ]
    }
   ],
   "source": [
    "import pandas as pd\n",
    "\n",
    "data=pd.read_csv('2023_6/open_rank_20236.csv')\n",
    "value=data['value']\n",
    "\n",
    "def average(A):\n",
    "    return sum(A)/len(A)\n",
    "\n",
    "def median(A):\n",
    "    A=sorted(A)\n",
    "    if len(A)%2==0:\n",
    "        return (A[len(A)//2-1]+A[len(A)//2])/2\n",
    "    else:\n",
    "        return A[len(A)//2]\n",
    "\n",
    "print('The highest value is', max(value), ';')\n",
    "print('the lowest value is', min(value), ';')\n",
    "print('the average value is', average(value), ';')\n",
    "print('the median value is', median(value), '.')"
   ]
  }
 ],
 "metadata": {
  "kernelspec": {
   "display_name": "Python 3",
   "language": "python",
   "name": "python3"
  },
  "language_info": {
   "codemirror_mode": {
    "name": "ipython",
    "version": 3
   },
   "file_extension": ".py",
   "mimetype": "text/x-python",
   "name": "python",
   "nbconvert_exporter": "python",
   "pygments_lexer": "ipython3",
   "version": "3.11.9"
  }
 },
 "nbformat": 4,
 "nbformat_minor": 2
}
