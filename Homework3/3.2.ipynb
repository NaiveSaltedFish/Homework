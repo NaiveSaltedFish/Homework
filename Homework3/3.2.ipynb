{
 "cells": [
  {
   "cell_type": "code",
   "execution_count": 16,
   "metadata": {},
   "outputs": [
    {
     "name": "stdout",
     "output_type": "stream",
     "text": [
      "[1, 2, 2, 3, 4, 5, 6, 6, 7, 8, 9]\n"
     ]
    }
   ],
   "source": [
    "List=input(\"Enter numbers:\").split()\n",
    "List=[int(x) for x in List]\n",
    "n=len(List)\n",
    "for i in range(1,n):\n",
    "    j=i-1\n",
    "    while j>0 and List[j+1]<List[j]:\n",
    "        List[j],List[j+1]=List[j+1],List[j]\n",
    "        j-=1\n",
    "print(List)"
   ]
  }
 ],
 "metadata": {
  "kernelspec": {
   "display_name": "Python 3",
   "language": "python",
   "name": "python3"
  },
  "language_info": {
   "codemirror_mode": {
    "name": "ipython",
    "version": 3
   },
   "file_extension": ".py",
   "mimetype": "text/x-python",
   "name": "python",
   "nbconvert_exporter": "python",
   "pygments_lexer": "ipython3",
   "version": "3.11.9"
  }
 },
 "nbformat": 4,
 "nbformat_minor": 2
}
