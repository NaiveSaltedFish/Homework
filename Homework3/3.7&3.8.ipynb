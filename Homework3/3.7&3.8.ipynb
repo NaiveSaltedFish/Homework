{
 "cells": [
  {
   "cell_type": "code",
   "execution_count": 13,
   "metadata": {},
   "outputs": [],
   "source": [
    "import pandas as pd\n",
    "import time\n",
    "\n",
    "data=pd.read_csv('data\\stuGrade.csv')\n",
    "chinese=data['chinese']\n",
    "math=data['math']\n",
    "english=data['english']\n",
    "chinese_ave=0\n",
    "math_ave=0\n",
    "english_ave=0\n",
    "for i in range(0,5):\n",
    "    chinese_ave+=chinese[i]\n",
    "    math_ave+=math[i]\n",
    "    english_ave+=english[i]  \n",
    "chinese_ave/=5\n",
    "math_ave/=5\n",
    "english_ave/=5\n",
    "\n",
    "my_id_name='10233330408 Zheng Xinyao'\n",
    "ave_score='The average scores are '+'%.2f'%chinese_ave+', '+'%.2f'%math_ave+', '+'%.2f'%english_ave+'.'\n",
    "current_time=time.strftime('%Y-%m-%d %H:%M:%S', time.localtime())\n",
    "time.sleep(2)\n",
    "new_time=time.strftime('%Y-%m-%d %H:%M:%S', time.localtime())\n",
    "\n",
    "my_data=[my_id_name, ave_score, current_time, new_time]\n",
    "df=pd.DataFrame(my_data)\n",
    "df.to_csv('my.txt')"
   ]
  }
 ],
 "metadata": {
  "kernelspec": {
   "display_name": "Python 3",
   "language": "python",
   "name": "python3"
  },
  "language_info": {
   "codemirror_mode": {
    "name": "ipython",
    "version": 3
   },
   "file_extension": ".py",
   "mimetype": "text/x-python",
   "name": "python",
   "nbconvert_exporter": "python",
   "pygments_lexer": "ipython3",
   "version": "3.11.9"
  }
 },
 "nbformat": 4,
 "nbformat_minor": 2
}
