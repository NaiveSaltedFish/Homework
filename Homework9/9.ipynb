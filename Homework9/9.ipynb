{
 "cells": [
  {
   "cell_type": "code",
   "execution_count": 12,
   "metadata": {},
   "outputs": [
    {
     "name": "stdout",
     "output_type": "stream",
     "text": [
      "31.93281609552429\n"
     ]
    }
   ],
   "source": [
    "import numpy as np\n",
    "import pandas as pd\n",
    "import matplotlib.pyplot as plt\n",
    "import seaborn as sns\n",
    "from sklearn.model_selection import train_test_split\n",
    "from sklearn.preprocessing import MinMaxScaler\n",
    "from sklearn.linear_model import LinearRegression\n",
    "from sklearn.metrics import mean_squared_error, r2_score\n",
    "\n",
    "#Task1\n",
    "file_path='bike.csv'\n",
    "data=pd.read_csv(file_path)\n",
    "\n",
    "#Task2\n",
    "data=data.drop(columns=['id'])\n",
    "\n",
    "#Task3\n",
    "data=data[data['city']==1]\n",
    "data=data.drop(columns=['city'])\n",
    "\n",
    "#Task4\n",
    "data['hour']=data['hour'].apply(lambda x: 1 if 6<=x<=18 else 0)\n",
    "\n",
    "#Task5\n",
    "y=data['y'].values\n",
    "\n",
    "#Task6\n",
    "data_numpy=data.to_numpy()\n",
    "\n",
    "#Task7\n",
    "X=data.drop(columns=['y'])\n",
    "y=data['y']\n",
    "X_train, X_test, y_train, y_test=train_test_split(X, y, test_size=0.2, random_state=50)\n",
    "\n",
    "#Task8\n",
    "scaler_X=MinMaxScaler()\n",
    "scaler_y=MinMaxScaler()\n",
    "X_train_scaled=scaler_X.fit_transform(X_train)\n",
    "X_test_scaled=scaler_X.transform(X_test)\n",
    "y_train_scaled=scaler_y.fit_transform(y_train.values.reshape(-1, 1))\n",
    "y_test_scaled=scaler_y.transform(y_test.values.reshape(-1, 1))\n",
    "\n",
    "#Task9\n",
    "model=LinearRegression()\n",
    "model.fit(X_train_scaled, y_train_scaled)\n",
    "\n",
    "#Task10\n",
    "y_pred_scaled=model.predict(X_test_scaled)\n",
    "y_pred=scaler_y.inverse_transform(y_pred_scaled)\n",
    "y_test_original=scaler_y.inverse_transform(y_test_scaled)\n",
    "\n",
    "#Task11\n",
    "mse=mean_squared_error(y_test_original, y_pred)\n",
    "rmse=np.sqrt(mse)\n",
    "print(rmse)"
   ]
  }
 ],
 "metadata": {
  "kernelspec": {
   "display_name": "Python 3",
   "language": "python",
   "name": "python3"
  },
  "language_info": {
   "codemirror_mode": {
    "name": "ipython",
    "version": 3
   },
   "file_extension": ".py",
   "mimetype": "text/x-python",
   "name": "python",
   "nbconvert_exporter": "python",
   "pygments_lexer": "ipython3",
   "version": "3.11.9"
  }
 },
 "nbformat": 4,
 "nbformat_minor": 2
}
